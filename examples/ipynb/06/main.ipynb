{
 "cells": [
  {
   "cell_type": "markdown",
   "metadata": {},
   "source": [
    "# Game Theory\n",
    "\n",
    "This notebook contains code examples referring to the Game Theory chapter of \"Applied Mathematics with Open-Source Software: Operational Research Problems\n",
    "with Python and R\"."
   ]
  },
  {
   "cell_type": "markdown",
   "metadata": {},
   "source": [
    "First we write a function that returns a game."
   ]
  },
  {
   "cell_type": "code",
   "execution_count": 1,
   "metadata": {},
   "outputs": [],
   "source": [
    "import nashpy as nash\n",
    "import numpy as np\n",
    "\n",
    "\n",
    "def get_game(profits, offset=0):\n",
    "    \"\"\"Return the game object with a given offset when 3 taxis are\n",
    "    provided.\n",
    "\n",
    "    Args:\n",
    "        profits: a matrix with expected profits\n",
    "        offset: a float\n",
    "\n",
    "    Returns:\n",
    "        A nashpy game object\n",
    "    \"\"\"\n",
    "    new_profits = np.array(profits)\n",
    "    new_profits[2] += offset\n",
    "    return nash.Game(new_profits, new_profits.T)"
   ]
  },
  {
   "cell_type": "markdown",
   "metadata": {},
   "source": [
    "The game for the problem in the chapter is given by:"
   ]
  },
  {
   "cell_type": "code",
   "execution_count": 2,
   "metadata": {},
   "outputs": [
    {
     "name": "stdout",
     "output_type": "stream",
     "text": [
      "Bi matrix game with payoff matrices:\n",
      "\n",
      "Row player:\n",
      "[[1.         0.5        0.33333333]\n",
      " [1.5        0.95       0.5       ]\n",
      " [1.66666667 0.8        0.85      ]]\n",
      "\n",
      "Column player:\n",
      "[[1.         1.5        1.66666667]\n",
      " [0.5        0.95       0.8       ]\n",
      " [0.33333333 0.5        0.85      ]]\n"
     ]
    }
   ],
   "source": [
    "profits = np.array(\n",
    "    (\n",
    "        (1, 1 / 2, 1 / 3),\n",
    "        (3 / 2, 19 / 20, 1 / 2),\n",
    "        (5 / 3, 4 / 5, 17 / 20),\n",
    "    )\n",
    ")\n",
    "game = get_game(profits=profits)\n",
    "print(game)"
   ]
  },
  {
   "cell_type": "markdown",
   "metadata": {},
   "source": [
    "Next we write a function that gives the Nash equilibria for a game."
   ]
  },
  {
   "cell_type": "code",
   "execution_count": 3,
   "metadata": {},
   "outputs": [],
   "source": [
    "def get_equilibria(profits, offset=0):\n",
    "    \"\"\"Return the equilibria for a given offset when 3 taxis are\n",
    "    provided.\n",
    "\n",
    "    Args:\n",
    "        profits: a matrix with expected profits\n",
    "        offset: a float\n",
    "\n",
    "    Returns:\n",
    "        A tuple of Nash equilibria\n",
    "    \"\"\"\n",
    "    game = get_game(profits=profits, offset=offset)\n",
    "    return tuple(game.support_enumeration())"
   ]
  },
  {
   "cell_type": "markdown",
   "metadata": {},
   "source": [
    "So the equilibria for the considered game are:"
   ]
  },
  {
   "cell_type": "code",
   "execution_count": 4,
   "metadata": {},
   "outputs": [
    {
     "name": "stdout",
     "output_type": "stream",
     "text": [
      "(array([0., 1., 0.]), array([0., 1., 0.]))\n",
      "(array([0., 0., 1.]), array([0., 0., 1.]))\n",
      "(array([0. , 0.7, 0.3]), array([0. , 0.7, 0.3]))\n"
     ]
    }
   ],
   "source": [
    "equilibria = get_equilibria(profits=profits)\n",
    "for eq in equilibria:\n",
    "    print(eq)"
   ]
  },
  {
   "cell_type": "markdown",
   "metadata": {},
   "source": [
    "Finding the offset that gives only one Nash equilibrium."
   ]
  },
  {
   "cell_type": "code",
   "execution_count": 5,
   "metadata": {},
   "outputs": [],
   "source": [
    "offset = 0\n",
    "while len(get_equilibria(profits=profits, offset=offset)) > 1:\n",
    "    offset += 0.01"
   ]
  },
  {
   "cell_type": "markdown",
   "metadata": {},
   "source": [
    "gives"
   ]
  },
  {
   "cell_type": "code",
   "execution_count": 6,
   "metadata": {},
   "outputs": [
    {
     "name": "stdout",
     "output_type": "stream",
     "text": [
      "0.15\n"
     ]
    }
   ],
   "source": [
    "print(round(offset, 2))"
   ]
  },
  {
   "cell_type": "markdown",
   "metadata": {},
   "source": [
    "with that equilibrium being:"
   ]
  },
  {
   "cell_type": "code",
   "execution_count": 7,
   "metadata": {},
   "outputs": [
    {
     "name": "stdout",
     "output_type": "stream",
     "text": [
      "((array([0., 0., 1.]), array([0., 0., 1.])),)\n"
     ]
    }
   ],
   "source": [
    "print(get_equilibria(profits=profits, offset=offset))"
   ]
  },
  {
   "cell_type": "code",
   "execution_count": null,
   "metadata": {},
   "outputs": [],
   "source": []
  }
 ],
 "metadata": {
  "kernelspec": {
   "display_name": "Python 3",
   "language": "python",
   "name": "python3"
  },
  "language_info": {
   "codemirror_mode": {
    "name": "ipython",
    "version": 3
   },
   "file_extension": ".py",
   "mimetype": "text/x-python",
   "name": "python",
   "nbconvert_exporter": "python",
   "pygments_lexer": "ipython3",
   "version": "3.7.3"
  }
 },
 "nbformat": 4,
 "nbformat_minor": 2
}
