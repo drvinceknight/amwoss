{
 "cells": [
  {
   "cell_type": "markdown",
   "metadata": {},
   "source": [
    "# Agent-Based Simulation\n",
    "\n",
    "This notebook contains code examples referring to the Agent-Based Simulation chapter of \"Applied Mathematics with Open-Source Software: Operational Research Problems\n",
    "with Python and R\"."
   ]
  },
  {
   "cell_type": "markdown",
   "metadata": {},
   "source": [
    "First import the required libraries."
   ]
  },
  {
   "cell_type": "code",
   "execution_count": 1,
   "metadata": {},
   "outputs": [],
   "source": [
    "import random\n",
    "import itertools\n",
    "import numpy as np"
   ]
  },
  {
   "cell_type": "markdown",
   "metadata": {},
   "source": [
    "Now define a class that defines a City."
   ]
  },
  {
   "cell_type": "code",
   "execution_count": 2,
   "metadata": {},
   "outputs": [],
   "source": [
    "class City:\n",
    "    def __init__(self, size, threshold):\n",
    "        \"\"\"Initialises the City object.\n",
    "\n",
    "        Args:\n",
    "            size: an integer number of rows and columns\n",
    "            threshold: float between 0 and 1 representing the\n",
    "            minimum acceptable proportion of similar neighbours\n",
    "        \"\"\"\n",
    "        self.size = size\n",
    "        sides = range(size)\n",
    "        self.coords = itertools.product(sides, sides)\n",
    "        self.houses = {\n",
    "            (x, y): House(x, y, threshold, self)\n",
    "            for x, y in self.coords\n",
    "        }\n",
    "\n",
    "    def run(self, n_steps):\n",
    "        \"\"\"Runs the simulation of a number of time steps.\n",
    "\n",
    "        Args:\n",
    "            n_steps: an integer number of steps\n",
    "        \"\"\"\n",
    "        for turn in range(n_steps):\n",
    "            self.take_turn()\n",
    "\n",
    "    def take_turn(self):\n",
    "        \"\"\"Swaps all sad households.\"\"\"\n",
    "        sad = [h for h in self.houses.values() if h.sad()]\n",
    "        random.shuffle(sad)\n",
    "        i = 0\n",
    "        while i <= len(sad) / 2:\n",
    "            sad[i].swap(sad[-i])\n",
    "            i += 1\n",
    "\n",
    "    def mean_satisfaction(self):\n",
    "        \"\"\"Finds the average household satisfaction.\n",
    "\n",
    "        Returns:\n",
    "            The average city's household satisfaction\n",
    "        \"\"\"\n",
    "        return np.mean(\n",
    "            [h.satisfaction() for h in self.houses.values()]\n",
    "        )"
   ]
  },
  {
   "cell_type": "markdown",
   "metadata": {},
   "source": [
    "Now define a class that defines a House."
   ]
  },
  {
   "cell_type": "code",
   "execution_count": 3,
   "metadata": {},
   "outputs": [],
   "source": [
    "class House:\n",
    "    def __init__(self, x, y, threshold, city):\n",
    "        \"\"\"Initialises the House object.\n",
    "\n",
    "        Args:\n",
    "            x: the integer x-coordinate\n",
    "            y: the integer y-coordinate\n",
    "            threshold: a number between 0 and 1 representing\n",
    "              the minimum acceptable proportion of similar\n",
    "              neighbours\n",
    "            city: an instance of the City class\n",
    "        \"\"\"\n",
    "        self.x = x\n",
    "        self.y = y\n",
    "        self.threshold = threshold\n",
    "        self.kind = random.choice([\"Cardiff\", \"Swansea\"])\n",
    "        self.city = city\n",
    "\n",
    "    def satisfaction(self):\n",
    "        \"\"\"Determines the household's satisfaction level.\n",
    "\n",
    "        Returns:\n",
    "            A proportion\n",
    "        \"\"\"\n",
    "        same = 0\n",
    "        for x, y in itertools.product([-1, 0, 1], [-1, 0, 1]):\n",
    "            ax = (self.x + x) % self.city.size\n",
    "            ay = (self.y + y) % self.city.size\n",
    "            same += self.city.houses[ax, ay].kind == self.kind\n",
    "        return (same - 1) / 8\n",
    "\n",
    "    def sad(self):\n",
    "        \"\"\"Determines if the household is sad.\n",
    "\n",
    "        Returns:\n",
    "            a Boolean\n",
    "        \"\"\"\n",
    "        return self.satisfaction() < self.threshold\n",
    "\n",
    "    def swap(self, house):\n",
    "        \"\"\"Swaps two households.\n",
    "\n",
    "        Args:\n",
    "            house: the house object to swap household with\n",
    "        \"\"\"\n",
    "        self.kind, house.kind = house.kind, self.kind"
   ]
  },
  {
   "cell_type": "markdown",
   "metadata": {},
   "source": [
    "Now define a function that gives the resulting mean happiness for a given threshold."
   ]
  },
  {
   "cell_type": "code",
   "execution_count": 4,
   "metadata": {},
   "outputs": [],
   "source": [
    "def find_mean_happiness(seed, size, threshold, n_steps):\n",
    "    \"\"\"Create and run an instance of the simulation.\n",
    "\n",
    "    Args:\n",
    "        seed: the random seed to use\n",
    "        size: an integer number of rows and columns\n",
    "        threshold: a number between 0 and 1 representing\n",
    "            the minimum acceptable proportion of similar\n",
    "            neighbours\n",
    "        n_steps: an integer number of steps\n",
    "\n",
    "    Returns:\n",
    "        The average city's household satisfaction after\n",
    "        n_steps\n",
    "    \"\"\"\n",
    "    random.seed(seed)\n",
    "    C = City(size, threshold)\n",
    "    C.run(n_steps)\n",
    "    return C.mean_satisfaction()"
   ]
  },
  {
   "cell_type": "markdown",
   "metadata": {},
   "source": [
    "Find the initial happiness after 0 steps:"
   ]
  },
  {
   "cell_type": "code",
   "execution_count": 5,
   "metadata": {},
   "outputs": [
    {
     "name": "stdout",
     "output_type": "stream",
     "text": [
      "0.4998\n"
     ]
    }
   ],
   "source": [
    "initial_happiness = find_mean_happiness(\n",
    "    seed=0, size=50, threshold=0.65, n_steps=0\n",
    ")\n",
    "print(initial_happiness)"
   ]
  },
  {
   "cell_type": "markdown",
   "metadata": {},
   "source": [
    "And the final happiness after 100 steps:"
   ]
  },
  {
   "cell_type": "code",
   "execution_count": 6,
   "metadata": {},
   "outputs": [
    {
     "name": "stdout",
     "output_type": "stream",
     "text": [
      "0.9078\n"
     ]
    }
   ],
   "source": [
    "final_happiness = find_mean_happiness(\n",
    "    seed=0, size=50, threshold=0.65, n_steps=100\n",
    ")\n",
    "print(final_happiness)"
   ]
  },
  {
   "cell_type": "code",
   "execution_count": null,
   "metadata": {},
   "outputs": [],
   "source": []
  }
 ],
 "metadata": {
  "kernelspec": {
   "display_name": "Python 3",
   "language": "python",
   "name": "python3"
  },
  "language_info": {
   "codemirror_mode": {
    "name": "ipython",
    "version": 3
   },
   "file_extension": ".py",
   "mimetype": "text/x-python",
   "name": "python",
   "nbconvert_exporter": "python",
   "pygments_lexer": "ipython3",
   "version": "3.7.3"
  }
 },
 "nbformat": 4,
 "nbformat_minor": 2
}
