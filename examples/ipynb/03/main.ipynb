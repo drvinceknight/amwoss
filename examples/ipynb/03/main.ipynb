{
 "cells": [
  {
   "cell_type": "markdown",
   "metadata": {},
   "source": [
    "# Discrete Event Simulation\n",
    "\n",
    "This notebook contains code examples referring to the Discrete Event Simulation chapter of \"Applied Mathematics with Open-Source Software: Operational Research Problems\n",
    "with Python and R\"."
   ]
  },
  {
   "cell_type": "markdown",
   "metadata": {},
   "source": [
    "First we define a function that gives a Network object, containing the structure of the repair shop."
   ]
  },
  {
   "cell_type": "code",
   "execution_count": 1,
   "metadata": {},
   "outputs": [],
   "source": [
    "import ciw\n",
    "\n",
    "\n",
    "def build_network_object(\n",
    "    num_inspectors=1,\n",
    "    num_repairers=2,\n",
    "):\n",
    "    \"\"\"Returns a Network object that defines the repair shop.\n",
    "\n",
    "    Args:\n",
    "        num_inspectors: a positive integer (default: 1)\n",
    "        num_repairers: a positive integer (default: 2)\n",
    "\n",
    "    Returns:\n",
    "        a Ciw network object\n",
    "    \"\"\"\n",
    "    arrival_rate = 15\n",
    "    inspection_rate = 20\n",
    "    repair_rate = 10\n",
    "    prob_need_repair = 0.8\n",
    "    N = ciw.create_network(\n",
    "        arrival_distributions=[\n",
    "            ciw.dists.Exponential(arrival_rate),\n",
    "            ciw.dists.NoArrivals(),\n",
    "        ],\n",
    "        service_distributions=[\n",
    "            ciw.dists.Exponential(inspection_rate),\n",
    "            ciw.dists.Exponential(repair_rate),\n",
    "        ],\n",
    "        number_of_servers=[num_inspectors, num_repairers],\n",
    "        routing=[[0.0, prob_need_repair], [0.0, 0.0]],\n",
    "    )\n",
    "    return N"
   ]
  },
  {
   "cell_type": "markdown",
   "metadata": {},
   "source": [
    "We can see information such as number of nodes in the network:"
   ]
  },
  {
   "cell_type": "code",
   "execution_count": 2,
   "metadata": {},
   "outputs": [
    {
     "name": "stdout",
     "output_type": "stream",
     "text": [
      "2\n"
     ]
    }
   ],
   "source": [
    "N = build_network_object()\n",
    "print(N.number_of_nodes)"
   ]
  },
  {
   "cell_type": "markdown",
   "metadata": {},
   "source": [
    "Then we define a function that runs one trial of the simulation."
   ]
  },
  {
   "cell_type": "code",
   "execution_count": 3,
   "metadata": {},
   "outputs": [],
   "source": [
    "def run_simulation(network, seed=0):\n",
    "    \"\"\"Builds a simulation object and runs it for 8 time units.\n",
    "\n",
    "    Args:\n",
    "        network: a Ciw network object\n",
    "        seed: a float (default: 0)\n",
    "\n",
    "    Returns:\n",
    "        a Ciw simulation object after a run of the simulation\n",
    "    \"\"\"\n",
    "    max_time = 8\n",
    "    ciw.seed(seed)\n",
    "    Q = ciw.Simulation(network)\n",
    "    Q.simulate_until_max_time(max_time)\n",
    "    return Q"
   ]
  },
  {
   "cell_type": "markdown",
   "metadata": {},
   "source": [
    "From one trial we can obtain the proportion of bicycles taking over half an hour:"
   ]
  },
  {
   "cell_type": "code",
   "execution_count": 4,
   "metadata": {},
   "outputs": [],
   "source": [
    "import pandas as pd\n",
    "\n",
    "\n",
    "def get_proportion(Q):\n",
    "    \"\"\"Returns the proportion of bicycles spending over a given\n",
    "    limit at the repair shop.\n",
    "\n",
    "    Args:\n",
    "        Q: a Ciw simulation object after a run of the\n",
    "           simulation\n",
    "\n",
    "    Returns:\n",
    "        a real\n",
    "    \"\"\"\n",
    "    limit = 0.5\n",
    "    inds = Q.nodes[-1].all_individuals\n",
    "    recs = pd.DataFrame(\n",
    "        dr for ind in inds for dr in ind.data_records\n",
    "    )\n",
    "    recs[\"total_time\"] = recs[\"exit_date\"] - recs[\"arrival_date\"]\n",
    "    total_times = recs.groupby(\"id_number\")[\"total_time\"].sum()\n",
    "    return (total_times > limit).mean()"
   ]
  },
  {
   "cell_type": "markdown",
   "metadata": {},
   "source": [
    "Putting all this together for one trial"
   ]
  },
  {
   "cell_type": "code",
   "execution_count": 5,
   "metadata": {},
   "outputs": [
    {
     "name": "stdout",
     "output_type": "stream",
     "text": [
      "0.261261\n"
     ]
    }
   ],
   "source": [
    "N = build_network_object()\n",
    "Q = run_simulation(N)\n",
    "p = get_proportion(Q)\n",
    "print(round(p, 6))"
   ]
  },
  {
   "cell_type": "markdown",
   "metadata": {},
   "source": [
    "A function to find the average proportion over a number of trials"
   ]
  },
  {
   "cell_type": "code",
   "execution_count": 6,
   "metadata": {},
   "outputs": [],
   "source": [
    "def get_average_proportion(num_inspectors=1, num_repairers=2):\n",
    "    \"\"\"Returns the average proportion of bicycles spending over a\n",
    "    given limit at the repair shop.\n",
    "\n",
    "    Args:\n",
    "        num_inspectors: a positive integer (default: 1)\n",
    "        num_repairers: a positive integer (default: 2)\n",
    "\n",
    "    Returns:\n",
    "        a real\n",
    "    \"\"\"\n",
    "    num_trials = 100\n",
    "    N = build_network_object(\n",
    "        num_inspectors=num_inspectors,\n",
    "        num_repairers=num_repairers,\n",
    "    )\n",
    "    proportions = []\n",
    "    for trial in range(num_trials):\n",
    "        Q = run_simulation(N, seed=trial)\n",
    "        proportion = get_proportion(Q=Q)\n",
    "        proportions.append(proportion)\n",
    "    return sum(proportions) / num_trials\n"
   ]
  },
  {
   "cell_type": "markdown",
   "metadata": {},
   "source": [
    "The proportion with current staff:"
   ]
  },
  {
   "cell_type": "code",
   "execution_count": 7,
   "metadata": {},
   "outputs": [
    {
     "name": "stdout",
     "output_type": "stream",
     "text": [
      "0.159354\n"
     ]
    }
   ],
   "source": [
    "p = get_average_proportion(num_inspectors=1, num_repairers=2)\n",
    "print(round(p, 6))"
   ]
  },
  {
   "cell_type": "markdown",
   "metadata": {},
   "source": [
    "The proportion with an extra inspector:"
   ]
  },
  {
   "cell_type": "code",
   "execution_count": 8,
   "metadata": {},
   "outputs": [
    {
     "name": "stdout",
     "output_type": "stream",
     "text": [
      "0.038477\n"
     ]
    }
   ],
   "source": [
    "p = get_average_proportion(num_inspectors=2, num_repairers=2)\n",
    "print(round(p, 6))"
   ]
  },
  {
   "cell_type": "markdown",
   "metadata": {},
   "source": [
    "The proportion with an extra repairer:"
   ]
  },
  {
   "cell_type": "code",
   "execution_count": 9,
   "metadata": {},
   "outputs": [
    {
     "name": "stdout",
     "output_type": "stream",
     "text": [
      "0.103591\n"
     ]
    }
   ],
   "source": [
    "p = get_average_proportion(num_inspectors=1, num_repairers=3)\n",
    "print(round(p, 6))"
   ]
  },
  {
   "cell_type": "code",
   "execution_count": null,
   "metadata": {},
   "outputs": [],
   "source": []
  }
 ],
 "metadata": {
  "kernelspec": {
   "display_name": "Python 3",
   "language": "python",
   "name": "python3"
  },
  "language_info": {
   "codemirror_mode": {
    "name": "ipython",
    "version": 3
   },
   "file_extension": ".py",
   "mimetype": "text/x-python",
   "name": "python",
   "nbconvert_exporter": "python",
   "pygments_lexer": "ipython3",
   "version": "3.8.3"
  }
 },
 "nbformat": 4,
 "nbformat_minor": 2
}
