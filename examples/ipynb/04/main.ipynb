{
 "cells": [
  {
   "cell_type": "markdown",
   "metadata": {},
   "source": [
    "# Differential Equations\n",
    "\n",
    "This notebook contains code examples referring to the Differential Equations chapter of \"Applied Mathematics with Open-Source Software: Operational Research Problems\n",
    "with Python and R\"."
   ]
  },
  {
   "cell_type": "markdown",
   "metadata": {},
   "source": [
    "First define some symbolic variables."
   ]
  },
  {
   "cell_type": "code",
   "execution_count": 1,
   "metadata": {},
   "outputs": [],
   "source": [
    "import sympy as sym\n",
    "\n",
    "t = sym.Symbol(\"t\")\n",
    "alpha = sym.Symbol(\"alpha\")\n",
    "I_0 = sym.Symbol(\"I_0\")\n",
    "I = sym.Function(\"I\")"
   ]
  },
  {
   "cell_type": "markdown",
   "metadata": {},
   "source": [
    "A function to define the differential equation in the chapter."
   ]
  },
  {
   "cell_type": "code",
   "execution_count": 2,
   "metadata": {},
   "outputs": [],
   "source": [
    "def get_equation(alpha=alpha):\n",
    "    \"\"\"Return the differential equation.\n",
    "\n",
    "    Args:\n",
    "        alpha: a float (default: symbolic alpha)\n",
    "\n",
    "    Returns:\n",
    "        A symbolic equation\n",
    "    \"\"\"\n",
    "    return sym.Eq(sym.Derivative(I(t), t), -alpha * I(t))"
   ]
  },
  {
   "cell_type": "markdown",
   "metadata": {},
   "source": [
    "Giving"
   ]
  },
  {
   "cell_type": "code",
   "execution_count": 3,
   "metadata": {},
   "outputs": [
    {
     "name": "stdout",
     "output_type": "stream",
     "text": [
      "Eq(Derivative(I(t), t), -alpha*I(t))\n"
     ]
    }
   ],
   "source": [
    "eq = get_equation()\n",
    "print(eq)"
   ]
  },
  {
   "cell_type": "markdown",
   "metadata": {},
   "source": [
    "Passing in a value for $\\alpha$"
   ]
  },
  {
   "cell_type": "code",
   "execution_count": 4,
   "metadata": {},
   "outputs": [
    {
     "name": "stdout",
     "output_type": "stream",
     "text": [
      "Eq(Derivative(I(t), t), -I(t))\n"
     ]
    }
   ],
   "source": [
    "eq = get_equation(alpha=1)\n",
    "print(eq)"
   ]
  },
  {
   "cell_type": "markdown",
   "metadata": {},
   "source": [
    "Define a function that gives a solution to that differential equation."
   ]
  },
  {
   "cell_type": "code",
   "execution_count": 5,
   "metadata": {},
   "outputs": [],
   "source": [
    "def get_solution(I_0=I_0, alpha=alpha):\n",
    "    \"\"\"Return the solution to the differential equation.\n",
    "\n",
    "    Args:\n",
    "        I_0: a float (default: symbolic I_0)\n",
    "        alpha: a float (default: symbolic alpha)\n",
    "\n",
    "    Returns:\n",
    "        A symbolic equation\n",
    "    \"\"\"\n",
    "    eq = get_equation(alpha=alpha)\n",
    "    return sym.dsolve(eq, I(t), ics={I(0): I_0})"
   ]
  },
  {
   "cell_type": "markdown",
   "metadata": {},
   "source": [
    "Giving"
   ]
  },
  {
   "cell_type": "code",
   "execution_count": 6,
   "metadata": {},
   "outputs": [
    {
     "name": "stdout",
     "output_type": "stream",
     "text": [
      "Eq(I(t), I_0*exp(-alpha*t))\n"
     ]
    }
   ],
   "source": [
    "sol = get_solution()\n",
    "print(sol)"
   ]
  },
  {
   "cell_type": "markdown",
   "metadata": {},
   "source": [
    "Verifying the result."
   ]
  },
  {
   "cell_type": "code",
   "execution_count": 7,
   "metadata": {},
   "outputs": [
    {
     "name": "stdout",
     "output_type": "stream",
     "text": [
      "True\n"
     ]
    }
   ],
   "source": [
    "print(sym.diff(sol.rhs, t) == -alpha * sol.rhs)"
   ]
  },
  {
   "cell_type": "markdown",
   "metadata": {},
   "source": [
    "Using the given parameters from the problem in the chapter."
   ]
  },
  {
   "cell_type": "code",
   "execution_count": 8,
   "metadata": {},
   "outputs": [
    {
     "name": "stdout",
     "output_type": "stream",
     "text": [
      "Eq(I(t), 100*exp(-2*t))\n"
     ]
    }
   ],
   "source": [
    "sol = get_solution(alpha=2, I_0=100)\n",
    "print(sol)"
   ]
  },
  {
   "cell_type": "markdown",
   "metadata": {},
   "source": [
    "Define a function that gives the overall cost."
   ]
  },
  {
   "cell_type": "code",
   "execution_count": 9,
   "metadata": {},
   "outputs": [],
   "source": [
    "def get_cost(\n",
    "    I_0=I_0,\n",
    "    alpha=alpha,\n",
    "    per_person_cost=10,\n",
    "    cure_cost=0,\n",
    "):\n",
    "    \"\"\"Return the cost.\n",
    "\n",
    "    Args:\n",
    "        I_0: a float (default: symbolic I_0)\n",
    "        alpha: a float (default: symbolic alpha)\n",
    "        per_person_cost: a float (default: 10)\n",
    "        cure_cost: a float (default: 0)\n",
    "\n",
    "    Returns:\n",
    "        A symbolic expression\n",
    "    \"\"\"\n",
    "    I_sol = get_solution(I_0=I_0, alpha=alpha)\n",
    "    area = sym.integrate(I_sol.rhs, (t, 0, sym.oo))\n",
    "    productivity_cost = area * per_person_cost\n",
    "    total_cost_of_cure = cure_cost * I_0\n",
    "    return productivity_cost + total_cost_of_cure"
   ]
  },
  {
   "cell_type": "markdown",
   "metadata": {},
   "source": [
    "The cost without purchasing the cure"
   ]
  },
  {
   "cell_type": "code",
   "execution_count": 10,
   "metadata": {},
   "outputs": [
    {
     "name": "stdout",
     "output_type": "stream",
     "text": [
      "500\n"
     ]
    }
   ],
   "source": [
    "alpha = 2\n",
    "cost_without_cure = get_cost(I_0=100, alpha=alpha)\n",
    "print(cost_without_cure)"
   ]
  },
  {
   "cell_type": "markdown",
   "metadata": {},
   "source": [
    "The cost with purchasing the cure"
   ]
  },
  {
   "cell_type": "code",
   "execution_count": 11,
   "metadata": {},
   "outputs": [
    {
     "name": "stdout",
     "output_type": "stream",
     "text": [
      "750\n"
     ]
    }
   ],
   "source": [
    "cost_with_cure = get_cost(I_0=100, alpha=2 * alpha, cure_cost=5)\n",
    "print(cost_with_cure)"
   ]
  },
  {
   "cell_type": "code",
   "execution_count": null,
   "metadata": {},
   "outputs": [],
   "source": []
  }
 ],
 "metadata": {
  "kernelspec": {
   "display_name": "Python 3",
   "language": "python",
   "name": "python3"
  },
  "language_info": {
   "codemirror_mode": {
    "name": "ipython",
    "version": 3
   },
   "file_extension": ".py",
   "mimetype": "text/x-python",
   "name": "python",
   "nbconvert_exporter": "python",
   "pygments_lexer": "ipython3",
   "version": "3.7.3"
  }
 },
 "nbformat": 4,
 "nbformat_minor": 2
}
