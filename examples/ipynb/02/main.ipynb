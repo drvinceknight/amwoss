{
 "cells": [
  {
   "cell_type": "markdown",
   "metadata": {},
   "source": [
    "# Markov chains\n",
    "\n",
    "This notebook contains code examples referring to the Markov chains chapter of \"Applied Mathematics with Open-Source Software: Operational Research Problems\n",
    "with Python and R\"."
   ]
  },
  {
   "cell_type": "markdown",
   "metadata": {},
   "source": [
    "First we define a function to get the transition rates between two given states:"
   ]
  },
  {
   "cell_type": "code",
   "execution_count": 2,
   "metadata": {},
   "outputs": [],
   "source": [
    "def get_transition_rate( in_state,\n",
    "    out_state,\n",
    "    waiting_room=4,\n",
    "    num_barbers=2,\n",
    "):\n",
    "    \"\"\"Return the transition rate for 2 given states.\n",
    "    Args:\n",
    "        in_state: an integer\n",
    "        out_state: an integer\n",
    "        waiting_room: an integer (default: 4)\n",
    "        num_barbers:  an integer (default: 2)\n",
    "    Returns:\n",
    "        A real.\n",
    "    \"\"\"\n",
    "    arrival_rate = 10\n",
    "    service_rate = 4\n",
    "    capacity = waiting_room + num_barbers\n",
    "    delta = out_state - in_state\n",
    "    if delta == 1 and in_state < capacity: \n",
    "        return arrival_rate\n",
    "    if delta == -1:\n",
    "        return min(in_state, num_barbers) * service_rate\n",
    "    return 0"
   ]
  },
  {
   "cell_type": "markdown",
   "metadata": {},
   "source": [
    "This can be used to create the transition matrix:"
   ]
  },
  {
   "cell_type": "code",
   "execution_count": 5,
   "metadata": {},
   "outputs": [],
   "source": [
    "import itertools\n",
    "import numpy as np\n",
    "\n",
    "\n",
    "def get_transition_rate_matrix(waiting_room=4, num_barbers=2):\n",
    "    \"\"\"Return the transition matrix Q.\n",
    "\n",
    "    Args:\n",
    "        waiting_room: an integer (default: 4)\n",
    "        num_barbers: an integer (default: 2)\n",
    "\n",
    "    Returns:\n",
    "        A matrix.\n",
    "    \"\"\"\n",
    "    capacity = waiting_room + num_barbers\n",
    "    state_pairs = itertools.product(range(capacity + 1), repeat=2)\n",
    "    flat_transition_rates = [\n",
    "        get_transition_rate(\n",
    "            in_state=in_state,\n",
    "            out_state=out_state,\n",
    "            waiting_room=waiting_room,\n",
    "            num_barbers=num_barbers,\n",
    "        )\n",
    "        for in_state, out_state in state_pairs\n",
    "    ]\n",
    "    transition_rates = np.reshape(\n",
    "        flat_transition_rates, (capacity + 1, capacity + 1)\n",
    "    )\n",
    "    np.fill_diagonal(\n",
    "        transition_rates, -transition_rates.sum(axis=1)\n",
    "    )\n",
    "\n",
    "    return transition_rates"
   ]
  },
  {
   "cell_type": "markdown",
   "metadata": {},
   "source": [
    "For the problem from the chapter this is:"
   ]
  },
  {
   "cell_type": "code",
   "execution_count": 7,
   "metadata": {},
   "outputs": [
    {
     "name": "stdout",
     "output_type": "stream",
     "text": [
      "[[-10  10   0   0   0   0   0]\n",
      " [  4 -14  10   0   0   0   0]\n",
      " [  0   8 -18  10   0   0   0]\n",
      " [  0   0   8 -18  10   0   0]\n",
      " [  0   0   0   8 -18  10   0]\n",
      " [  0   0   0   0   8 -18  10]\n",
      " [  0   0   0   0   0   8  -8]]\n"
     ]
    }
   ],
   "source": [
    "Q = get_transition_rate_matrix()\n",
    "print(Q)"
   ]
  },
  {
   "cell_type": "markdown",
   "metadata": {},
   "source": [
    "Here is the state of the system after 0.5 time units:"
   ]
  },
  {
   "cell_type": "code",
   "execution_count": 8,
   "metadata": {},
   "outputs": [
    {
     "name": "stdout",
     "output_type": "stream",
     "text": [
      "[[0.10492 0.21254 0.20377 0.17142 0.13021 0.09564 0.0815 ]\n",
      " [0.08501 0.18292 0.18666 0.1708  0.14377 0.1189  0.11194]\n",
      " [0.06521 0.14933 0.16338 0.16478 0.15633 0.14751 0.15346]\n",
      " [0.04388 0.10931 0.13183 0.15181 0.16777 0.18398 0.21142]\n",
      " [0.02667 0.07361 0.10005 0.13422 0.17393 0.2189  0.27262]\n",
      " [0.01567 0.0487  0.07552 0.11775 0.17512 0.24484 0.32239]\n",
      " [0.01068 0.03668 0.06286 0.10824 0.17448 0.25791 0.34914]]\n"
     ]
    }
   ],
   "source": [
    "import scipy.linalg\n",
    "\n",
    "print(scipy.linalg.expm(Q * 0.5).round(5))"
   ]
  },
  {
   "cell_type": "markdown",
   "metadata": {},
   "source": [
    "After 500 time units:"
   ]
  },
  {
   "cell_type": "code",
   "execution_count": 9,
   "metadata": {},
   "outputs": [
    {
     "name": "stdout",
     "output_type": "stream",
     "text": [
      "[[0.03431 0.08577 0.10722 0.13402 0.16752 0.2094  0.26176]\n",
      " [0.03431 0.08577 0.10722 0.13402 0.16752 0.2094  0.26176]\n",
      " [0.03431 0.08577 0.10722 0.13402 0.16752 0.2094  0.26176]\n",
      " [0.03431 0.08577 0.10722 0.13402 0.16752 0.2094  0.26176]\n",
      " [0.03431 0.08577 0.10722 0.13402 0.16752 0.2094  0.26176]\n",
      " [0.03431 0.08577 0.10722 0.13402 0.16752 0.2094  0.26176]\n",
      " [0.03431 0.08577 0.10722 0.13402 0.16752 0.2094  0.26176]]\n"
     ]
    }
   ],
   "source": [
    "print(scipy.linalg.expm(Q * 500).round(5))"
   ]
  },
  {
   "cell_type": "markdown",
   "metadata": {},
   "source": [
    "We can obtain the steady state:"
   ]
  },
  {
   "cell_type": "code",
   "execution_count": 11,
   "metadata": {},
   "outputs": [],
   "source": [
    "def get_steady_state_vector(Q):\n",
    "    \"\"\"Return the steady state vector of any given continuous time\n",
    "    transition rate matrix.\n",
    "\n",
    "    Args:\n",
    "       Q: a transition rate matrix\n",
    "\n",
    "    Returns:\n",
    "        A vector\n",
    "    \"\"\"\n",
    "    state_space_size, _ = Q.shape\n",
    "    A = np.vstack((Q.T, np.ones(state_space_size)))\n",
    "    b = np.append(np.zeros(state_space_size), 1)\n",
    "    x, _, _, _ = np.linalg.lstsq(A, b, rcond=None)\n",
    "    return x"
   ]
  },
  {
   "cell_type": "code",
   "execution_count": 12,
   "metadata": {},
   "outputs": [
    {
     "name": "stdout",
     "output_type": "stream",
     "text": [
      "[0.03431 0.08577 0.10722 0.13402 0.16752 0.2094  0.26176]\n"
     ]
    }
   ],
   "source": [
    "print(get_steady_state_vector(Q).round(5))"
   ]
  },
  {
   "cell_type": "markdown",
   "metadata": {},
   "source": [
    "The probability of a full shop"
   ]
  },
  {
   "cell_type": "code",
   "execution_count": 14,
   "metadata": {},
   "outputs": [],
   "source": [
    "def get_probability_of_full_shop(waiting_room=4, num_barbers=2):\n",
    "    \"\"\"Return the probability of the barber shop being full.\n",
    "\n",
    "    Args:\n",
    "        waiting_room: an integer (default: 4)\n",
    "        num_barbers: an integer (default: 2)\n",
    "\n",
    "    Returns:\n",
    "        A real.\n",
    "    \"\"\"\n",
    "    Q = get_transition_rate_matrix(\n",
    "        waiting_room=waiting_room,\n",
    "        num_barbers=num_barbers,\n",
    "    )\n",
    "    pi = get_steady_state_vector(Q)\n",
    "    return pi[-1]"
   ]
  },
  {
   "cell_type": "code",
   "execution_count": 15,
   "metadata": {},
   "outputs": [
    {
     "name": "stdout",
     "output_type": "stream",
     "text": [
      "0.261756\n"
     ]
    }
   ],
   "source": [
    "print(round(get_probability_of_full_shop(), 6))"
   ]
  },
  {
   "cell_type": "code",
   "execution_count": 16,
   "metadata": {},
   "outputs": [
    {
     "name": "stdout",
     "output_type": "stream",
     "text": [
      "0.23557\n"
     ]
    }
   ],
   "source": [
    "print(round(get_probability_of_full_shop(waiting_room=6), 6))"
   ]
  },
  {
   "cell_type": "code",
   "execution_count": 17,
   "metadata": {},
   "outputs": [
    {
     "name": "stdout",
     "output_type": "stream",
     "text": [
      "0.078636\n"
     ]
    }
   ],
   "source": [
    "print(round(get_probability_of_full_shop(num_barbers=3), 6))"
   ]
  },
  {
   "cell_type": "code",
   "execution_count": null,
   "metadata": {},
   "outputs": [],
   "source": []
  }
 ],
 "metadata": {
  "kernelspec": {
   "display_name": "Python 3",
   "language": "python",
   "name": "python3"
  },
  "language_info": {
   "codemirror_mode": {
    "name": "ipython",
    "version": 3
   },
   "file_extension": ".py",
   "mimetype": "text/x-python",
   "name": "python",
   "nbconvert_exporter": "python",
   "pygments_lexer": "ipython3",
   "version": "3.8.3"
  }
 },
 "nbformat": 4,
 "nbformat_minor": 4
}
