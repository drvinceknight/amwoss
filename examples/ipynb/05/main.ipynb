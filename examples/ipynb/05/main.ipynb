{
 "cells": [
  {
   "cell_type": "markdown",
   "metadata": {},
   "source": [
    "# Systems Dynamics\n",
    "\n",
    "This notebook contains code examples referring to the Systems Dynamics chapter of \"Applied Mathematics with Open-Source Software: Operational Research Problems\n",
    "with Python and R\"."
   ]
  },
  {
   "cell_type": "markdown",
   "metadata": {},
   "source": [
    "First we create a function that returns the derivatives according to the differential equations given in the chapter."
   ]
  },
  {
   "cell_type": "code",
   "execution_count": 3,
   "metadata": {},
   "outputs": [],
   "source": [
    "def derivatives(t, y, vaccine_rate, birth_rate=0.01):\n",
    "    \"\"\"Defines the system of differential equations that describe\n",
    "    the epidemiology model.\n",
    "\n",
    "    Args:\n",
    "        t: a positive float\n",
    "        y: a tuple of three integers\n",
    "        vaccine_rate: a positive float <= 1\n",
    "        birth_rate: a positive float <= 1 (default: 0.01)\n",
    "\n",
    "    Returns:\n",
    "        A tuple containing dS, dI, and dR\n",
    "    \"\"\"\n",
    "    infection_rate = 0.3\n",
    "    recovery_rate = 0.02\n",
    "    death_rate = 0.01\n",
    "    S, I, R = y\n",
    "    N = S + I + R\n",
    "    dSdt = (\n",
    "        -((infection_rate * S * I) / N)\n",
    "        + ((1 - vaccine_rate) * birth_rate * N)\n",
    "        - (death_rate * S)\n",
    "    )\n",
    "    dIdt = (\n",
    "        ((infection_rate * S * I) / N)\n",
    "        - (recovery_rate * I)\n",
    "        - (death_rate * I)\n",
    "    )\n",
    "    dRdt = (\n",
    "        (recovery_rate * I)\n",
    "        - (death_rate * R)\n",
    "        + (vaccine_rate * birth_rate * N)\n",
    "    )\n",
    "    return dSdt, dIdt, dRdt"
   ]
  },
  {
   "cell_type": "markdown",
   "metadata": {},
   "source": [
    "An example of using this:"
   ]
  },
  {
   "cell_type": "code",
   "execution_count": 4,
   "metadata": {},
   "outputs": [
    {
     "name": "stdout",
     "output_type": "stream",
     "text": [
      "(-0.255, 0.21, 0.045)\n"
     ]
    }
   ],
   "source": [
    "print(derivatives(t=0.0, y=(4, 1, 0), vaccine_rate=0.5))"
   ]
  },
  {
   "cell_type": "markdown",
   "metadata": {},
   "source": [
    "Then we define a function that numerically solves the given system over a period of time."
   ]
  },
  {
   "cell_type": "code",
   "execution_count": 5,
   "metadata": {},
   "outputs": [],
   "source": [
    "from scipy.integrate import solve_ivp\n",
    "\n",
    "\n",
    "def solve_ode(\n",
    "    derivative_function,\n",
    "    t_span,\n",
    "    y0=(2999, 1, 0),\n",
    "    vaccine_rate=0.85,\n",
    "    birth_rate=0.01,\n",
    "):\n",
    "    \"\"\"Numerically solve the system of differential equations.\n",
    "\n",
    "    Args:\n",
    "        derivative_function: a function returning a tuple\n",
    "                             of three floats\n",
    "        t_span: endpoints of the time range to integrate over\n",
    "        y0: a tuple of three integers (default: (2999, 1, 0))\n",
    "        vaccine_rate: a positive float <= 1 (default: 0.85)\n",
    "        birth_rate: a positive float <= 1 (default: 0.01)\n",
    "\n",
    "    Returns:\n",
    "        A tuple of four arrays\n",
    "    \"\"\"\n",
    "    sol = solve_ivp(\n",
    "        derivative_function,\n",
    "        t_span,\n",
    "        y0,\n",
    "        args=(vaccine_rate, birth_rate),\n",
    "    )\n",
    "    t, S, I, R = sol.t, sol.y[0], sol.y[1], sol.y[2]\n",
    "    return t, S, I, R"
   ]
  },
  {
   "cell_type": "markdown",
   "metadata": {},
   "source": [
    "Solving the system with no vaccines"
   ]
  },
  {
   "cell_type": "code",
   "execution_count": 6,
   "metadata": {},
   "outputs": [],
   "source": [
    "t_span = [0, 730]\n",
    "t, S, I, R = solve_ode(derivatives, t_span, vaccine_rate=0.0)"
   ]
  },
  {
   "cell_type": "markdown",
   "metadata": {},
   "source": [
    "And plotting:"
   ]
  },
  {
   "cell_type": "code",
   "execution_count": 7,
   "metadata": {},
   "outputs": [
    {
     "data": {
      "image/png": "[encoded data removed]",
      "text/plain": [
       "<Figure size 720x360 with 1 Axes>"
      ]
     },
     "metadata": {
      "needs_background": "light"
     },
     "output_type": "display_data"
    }
   ],
   "source": [
    "import matplotlib.pyplot as plt\n",
    "fig, ax = plt.subplots(1, figsize=(10, 5))\n",
    "ax.plot(t, S, label='Susceptible', c='black', linestyle='solid', linewidth=1.75)\n",
    "ax.plot(t, I, label='Infected', c='black', linestyle='dotted', linewidth=1.75)\n",
    "ax.plot(t, R, label='Recovered', c='black', linestyle='dashed', linewidth=1.75)\n",
    "ax.legend(fontsize=14, frameon=True, ncol=3, bbox_to_anchor=(0.85, 1.13))\n",
    "ax.set_xlabel('Time', fontsize=14)\n",
    "ax.set_ylabel('People', fontsize=14)\n",
    "plt.show()"
   ]
  },
  {
   "cell_type": "markdown",
   "metadata": {},
   "source": [
    "Solving the system with vaccines"
   ]
  },
  {
   "cell_type": "code",
   "execution_count": 8,
   "metadata": {},
   "outputs": [],
   "source": [
    "t, S, I, R = solve_ode(derivatives, t_span, vaccine_rate=0.85)"
   ]
  },
  {
   "cell_type": "markdown",
   "metadata": {},
   "source": [
    "And plotting:"
   ]
  },
  {
   "cell_type": "code",
   "execution_count": null,
   "metadata": {},
   "outputs": [],
   "source": []
  }
 ],
 "metadata": {
  "kernelspec": {
   "display_name": "Python 3",
   "language": "python",
   "name": "python3"
  },
  "language_info": {
   "codemirror_mode": {
    "name": "ipython",
    "version": 3
   },
   "file_extension": ".py",
   "mimetype": "text/x-python",
   "name": "python",
   "nbconvert_exporter": "python",
   "pygments_lexer": "ipython3",
   "version": "3.7.3"
  }
 },
 "nbformat": 4,
 "nbformat_minor": 2
}
