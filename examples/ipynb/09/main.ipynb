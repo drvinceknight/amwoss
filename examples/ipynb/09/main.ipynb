{
 "cells": [
  {
   "cell_type": "markdown",
   "metadata": {},
   "source": [
    "# Heuristics\n",
    "\n",
    "This notebook contains code examples referring to the Heuristics chapter of \"Applied Mathematics with Open-Source Software: Operational Research Problems\n",
    "with Python and R\"."
   ]
  },
  {
   "cell_type": "markdown",
   "metadata": {},
   "source": [
    "First we write a function to generate an initial random candidate solution."
   ]
  },
  {
   "cell_type": "code",
   "execution_count": 1,
   "metadata": {},
   "outputs": [],
   "source": [
    "import numpy as np\n",
    "\n",
    "\n",
    "def get_initial_candidate(number_of_stops, seed):\n",
    "    \"\"\"Return an random initial tour.\n",
    "\n",
    "    Args:\n",
    "        number_of_stops: The number of stops\n",
    "        seed: An integer seed.\n",
    "\n",
    "    Returns:\n",
    "        A tour starting an ending at stop with index 0.\n",
    "    \"\"\"\n",
    "    internal_stops = list(range(1, number_of_stops))\n",
    "    np.random.seed(seed)\n",
    "    np.random.shuffle(internal_stops)\n",
    "    return [0] + internal_stops + [0]"
   ]
  },
  {
   "cell_type": "markdown",
   "metadata": {},
   "source": [
    "An example with 13 stops."
   ]
  },
  {
   "cell_type": "code",
   "execution_count": 2,
   "metadata": {},
   "outputs": [
    {
     "name": "stdout",
     "output_type": "stream",
     "text": [
      "[0, 7, 12, 5, 11, 3, 9, 2, 8, 10, 4, 1, 6, 0]\n"
     ]
    }
   ],
   "source": [
    "number_of_stops = 13\n",
    "seed = 0\n",
    "initial_candidate = get_initial_candidate(\n",
    "    number_of_stops=number_of_stops,\n",
    "    seed=seed,\n",
    ")\n",
    "print(initial_candidate)"
   ]
  },
  {
   "cell_type": "markdown",
   "metadata": {},
   "source": [
    "Next we write a function that calculates the cost of that solution."
   ]
  },
  {
   "cell_type": "code",
   "execution_count": 3,
   "metadata": {},
   "outputs": [],
   "source": [
    "def get_cost(tour, distance_matrix):\n",
    "    \"\"\"Return the cost of a tour.\n",
    "\n",
    "    Args:\n",
    "        tour: A given tuple of successive stops.\n",
    "        distance_matrix: The distance matrix of the problem.\n",
    "\n",
    "    Returns:\n",
    "        The cost\n",
    "    \"\"\"\n",
    "    return sum(\n",
    "        distance_matrix[current_stop, next_stop]\n",
    "        for current_stop, next_stop in zip(tour[:-1], tour[1:])\n",
    "    )"
   ]
  },
  {
   "cell_type": "markdown",
   "metadata": {},
   "source": [
    "For the particular distance matrix given in the chapter, the cost of the initial solution is:"
   ]
  },
  {
   "cell_type": "code",
   "execution_count": 4,
   "metadata": {},
   "outputs": [
    {
     "name": "stdout",
     "output_type": "stream",
     "text": [
      "827\n"
     ]
    }
   ],
   "source": [
    "distance_matrix = np.array(\n",
    "    (\n",
    "        (0, 35, 35, 29, 70, 35, 42, 27, 24, 44, 58, 71, 69),\n",
    "        (35, 0, 67, 32, 72, 40, 71, 56, 36, 11, 66, 70, 37),\n",
    "        (35, 67, 0, 63, 64, 68, 11, 12, 56, 77, 48, 67, 94),\n",
    "        (29, 32, 63, 0, 93, 8, 71, 56, 8, 33, 84, 93, 69),\n",
    "        (70, 72, 64, 93, 0, 101, 56, 56, 92, 81, 16, 5, 69),\n",
    "        (35, 40, 68, 8, 101, 0, 76, 62, 11, 39, 91, 101, 76),\n",
    "        (42, 71, 11, 71, 56, 76, 0, 15, 65, 81, 40, 60, 94),\n",
    "        (27, 56, 12, 56, 56, 62, 15, 0, 50, 66, 41, 58, 82),\n",
    "        (24, 36, 56, 8, 92, 11, 65, 50, 0, 39, 81, 91, 74),\n",
    "        (44, 11, 77, 33, 81, 39, 81, 66, 39, 0, 77, 79, 37),\n",
    "        (58, 66, 48, 84, 16, 91, 40, 41, 81, 77, 0, 20, 73),\n",
    "        (71, 70, 67, 93, 5, 101, 60, 58, 91, 79, 20, 0, 65),\n",
    "        (69, 37, 94, 69, 69, 76, 94, 82, 74, 37, 73, 65, 0),\n",
    "    )\n",
    ")\n",
    "cost = get_cost(\n",
    "    tour=initial_candidate,\n",
    "    distance_matrix=distance_matrix,\n",
    ")\n",
    "print(cost)"
   ]
  },
  {
   "cell_type": "markdown",
   "metadata": {},
   "source": [
    "We then write a function to act as a neighbourhood operator. This one swaps two random stops on the tour."
   ]
  },
  {
   "cell_type": "code",
   "execution_count": 5,
   "metadata": {},
   "outputs": [],
   "source": [
    "def swap_stops(tour):\n",
    "    \"\"\"Return a new tour by swapping two stops.\n",
    "\n",
    "    Args:\n",
    "        tour: A given tuple of successive stops.\n",
    "\n",
    "    Returns:\n",
    "        A tour\n",
    "    \"\"\"\n",
    "    number_of_stops = len(tour) - 1\n",
    "    i, j = np.random.choice(range(1, number_of_stops), 2)\n",
    "    new_tour = list(tour)\n",
    "    new_tour[i], new_tour[j] = tour[j], tour[i]\n",
    "    return new_tour"
   ]
  },
  {
   "cell_type": "markdown",
   "metadata": {},
   "source": [
    "Applying this to the initial solution:"
   ]
  },
  {
   "cell_type": "code",
   "execution_count": 6,
   "metadata": {},
   "outputs": [
    {
     "name": "stdout",
     "output_type": "stream",
     "text": [
      "[0, 7, 12, 5, 11, 3, 9, 2, 8, 1, 4, 10, 6, 0]\n"
     ]
    }
   ],
   "source": [
    "print(swap_stops(initial_candidate))"
   ]
  },
  {
   "cell_type": "markdown",
   "metadata": {},
   "source": [
    "Now we combine these and define a function that runs the neighbourhood search algorithm."
   ]
  },
  {
   "cell_type": "code",
   "execution_count": 7,
   "metadata": {},
   "outputs": [],
   "source": [
    "def run_neighbourhood_search(\n",
    "    distance_matrix,\n",
    "    iterations,\n",
    "    seed,\n",
    "    neighbourhood_operator=swap_stops,\n",
    "):\n",
    "    \"\"\"Returns a tour by carrying out a neighbourhood search.\n",
    "\n",
    "    Args:\n",
    "        distance_matrix: the distance matrix\n",
    "        iterations: the number of iterations for which to\n",
    "                    run the algorithm\n",
    "        seed: a random seed\n",
    "        neighbourhood_operator: the neighbourhood operator\n",
    "                                (default: swap_stops)\n",
    "\n",
    "    Returns:\n",
    "        A tour\n",
    "    \"\"\"\n",
    "    number_of_stops = len(distance_matrix)\n",
    "    candidate = get_initial_candidate(\n",
    "        number_of_stops=number_of_stops,\n",
    "        seed=seed,\n",
    "    )\n",
    "    best_cost = get_cost(\n",
    "        tour=candidate,\n",
    "        distance_matrix=distance_matrix,\n",
    "    )\n",
    "    for _ in range(iterations):\n",
    "        new_candidate = neighbourhood_operator(candidate)\n",
    "        cost = get_cost(\n",
    "            tour=new_candidate,\n",
    "            distance_matrix=distance_matrix,\n",
    "        )\n",
    "        if cost <= best_cost:\n",
    "            best_cost = cost\n",
    "            candidate = new_candidate\n",
    "\n",
    "    return candidate"
   ]
  },
  {
   "cell_type": "markdown",
   "metadata": {},
   "source": [
    "Running this for 1000 iterations gives a better solution."
   ]
  },
  {
   "cell_type": "code",
   "execution_count": 8,
   "metadata": {},
   "outputs": [
    {
     "name": "stdout",
     "output_type": "stream",
     "text": [
      "[0, 7, 2, 8, 5, 3, 1, 9, 12, 11, 4, 10, 6, 0]\n"
     ]
    }
   ],
   "source": [
    "number_of_iterations = 1000\n",
    "\n",
    "solution_with_swap_stops = run_neighbourhood_search(\n",
    "    distance_matrix=distance_matrix,\n",
    "    iterations=number_of_iterations,\n",
    "    seed=seed,\n",
    "    neighbourhood_operator=swap_stops,\n",
    ")\n",
    "print(solution_with_swap_stops)"
   ]
  },
  {
   "cell_type": "markdown",
   "metadata": {},
   "source": [
    "with cost:"
   ]
  },
  {
   "cell_type": "code",
   "execution_count": 9,
   "metadata": {},
   "outputs": [
    {
     "name": "stdout",
     "output_type": "stream",
     "text": [
      "362\n"
     ]
    }
   ],
   "source": [
    "cost = get_cost(\n",
    "    tour=solution_with_swap_stops,\n",
    "    distance_matrix=distance_matrix,\n",
    ")\n",
    "print(cost)"
   ]
  },
  {
   "cell_type": "markdown",
   "metadata": {},
   "source": [
    "We now define a different neighbourhood operator, reversing the tour between two stops."
   ]
  },
  {
   "cell_type": "code",
   "execution_count": 10,
   "metadata": {},
   "outputs": [],
   "source": [
    "def reverse_path(tour):\n",
    "    \"\"\"Return a new tour by reversing the path between two stops.\n",
    "\n",
    "    Args:\n",
    "        tour: A given tuple of successive stops.\n",
    "\n",
    "    Returns:\n",
    "        A tour\n",
    "    \"\"\"\n",
    "    number_of_stops = len(tour) - 1\n",
    "    stops = np.random.choice(range(1, number_of_stops), 2)\n",
    "    i, j = sorted(stops)\n",
    "    new_tour = tour[:i] + tour[i : j + 1][::-1] + tour[j + 1 :]\n",
    "    return new_tour"
   ]
  },
  {
   "cell_type": "markdown",
   "metadata": {},
   "source": [
    "Applying this to the initial solution:"
   ]
  },
  {
   "cell_type": "code",
   "execution_count": 11,
   "metadata": {},
   "outputs": [
    {
     "name": "stdout",
     "output_type": "stream",
     "text": [
      "[0, 7, 4, 10, 8, 2, 9, 3, 11, 5, 12, 1, 6, 0]\n"
     ]
    }
   ],
   "source": [
    "print(reverse_path(initial_candidate))"
   ]
  },
  {
   "cell_type": "markdown",
   "metadata": {},
   "source": [
    "Using this neighbourhood operator in the neighbourhood search instead, gives an even better solution."
   ]
  },
  {
   "cell_type": "code",
   "execution_count": 12,
   "metadata": {},
   "outputs": [
    {
     "name": "stdout",
     "output_type": "stream",
     "text": [
      "[0, 8, 5, 3, 1, 9, 12, 11, 4, 10, 6, 2, 7, 0]\n"
     ]
    }
   ],
   "source": [
    "solution_with_reverse_path = run_neighbourhood_search(\n",
    "    distance_matrix=distance_matrix,\n",
    "    iterations=number_of_iterations,\n",
    "    seed=seed,\n",
    "    neighbourhood_operator=reverse_path,\n",
    ")\n",
    "print(solution_with_reverse_path)"
   ]
  },
  {
   "cell_type": "markdown",
   "metadata": {},
   "source": [
    "with cost:"
   ]
  },
  {
   "cell_type": "code",
   "execution_count": 13,
   "metadata": {},
   "outputs": [
    {
     "name": "stdout",
     "output_type": "stream",
     "text": [
      "299\n"
     ]
    }
   ],
   "source": [
    "cost = get_cost(\n",
    "    tour=solution_with_reverse_path,\n",
    "    distance_matrix=distance_matrix,\n",
    ")\n",
    "print(cost)"
   ]
  },
  {
   "cell_type": "code",
   "execution_count": null,
   "metadata": {},
   "outputs": [],
   "source": []
  }
 ],
 "metadata": {
  "kernelspec": {
   "display_name": "Python 3",
   "language": "python",
   "name": "python3"
  },
  "language_info": {
   "codemirror_mode": {
    "name": "ipython",
    "version": 3
   },
   "file_extension": ".py",
   "mimetype": "text/x-python",
   "name": "python",
   "nbconvert_exporter": "python",
   "pygments_lexer": "ipython3",
   "version": "3.7.3"
  }
 },
 "nbformat": 4,
 "nbformat_minor": 2
}
